{
 "cells": [
  {
   "cell_type": "code",
   "execution_count": null,
   "id": "02af7c54",
   "metadata": {},
   "outputs": [],
   "source": [
    "#creating a Unique Folder from Sample Fingerprints which are collecting from Crime Scene \n",
    "#for Identifying number of Persons Involving in Crime"
   ]
  },
  {
   "cell_type": "code",
   "execution_count": 1,
   "id": "c842f91a",
   "metadata": {},
   "outputs": [],
   "source": [
    "import os\n",
    "import cv2\n",
    "import matplotlib.pyplot as plt\n",
    "import numpy as np\n",
    "import pandas as pd"
   ]
  },
  {
   "cell_type": "code",
   "execution_count": 2,
   "id": "d1bf3ada",
   "metadata": {},
   "outputs": [
    {
     "name": "stdout",
     "output_type": "stream",
     "text": [
      "No of unique Fingerprints 9\n"
     ]
    }
   ],
   "source": [
    "count=0\n",
    "k= \"{}.jpg\"\n",
    "for file in os.listdir (r\"C:\\Users\\Rizwa\\OneDrive\\Desktop\\SOCOFing\\Altered\\Altered-Easy/\")[:30]:\n",
    "    \n",
    "    compare_img = cv2.imread(r\"C:\\Users\\Rizwa\\OneDrive\\Desktop\\SOCOFing\\Altered\\Altered-Easy/\"+file)\n",
    "    \n",
    "    if os.listdir(r'C:\\Users\\Rizwa\\OneDrive\\Desktop\\unique'):\n",
    "        for p_file in os.listdir (r\"C:\\Users\\Rizwa\\OneDrive\\Desktop\\unique/\"):\n",
    "            fingerprint_img = cv2.imread(r\"C:\\Users\\Rizwa\\OneDrive\\Desktop\\unique/\" + p_file)\n",
    "            sift = cv2.SIFT_create()\n",
    "            keypoints_1, des1 = sift.detectAndCompute(fingerprint_img, None)\n",
    "            keypoints_2, des2 = sift.detectAndCompute(compare_img, None)\n",
    "            matches = cv2.FlannBasedMatcher({\"algorithm\": 1, \"trees\": 10}, {}).knnMatch(des1, des2, k=2)\n",
    "            match_points = []\n",
    "\n",
    "            for p, q in matches:\n",
    "                if p.distance < 0.1 * q.distance:\n",
    "                    match_points.append(p)\n",
    "            if len(match_points)>0:\n",
    "                break\n",
    "            else:\n",
    "                pass\n",
    "        else:\n",
    "            directory = r'C:\\Users\\Rizwa\\OneDrive\\Desktop\\unique/'\n",
    "            img = (compare_img) \n",
    "            os.chdir(directory)\n",
    "            count+=1\n",
    "            filename = k.format(count)\n",
    "            cv2.imwrite(filename, img)\n",
    "    else:\n",
    "        directory = r'C:\\Users\\Rizwa\\OneDrive\\Desktop\\unique/'\n",
    "        img = (compare_img) \n",
    "        os.chdir(directory)\n",
    "        count+=1\n",
    "        filename =k.format(count)\n",
    "        cv2.imwrite(filename, img) \n",
    "        \n",
    "        \n",
    "print(\"No of unique Fingerprints\",count)"
   ]
  },
  {
   "cell_type": "code",
   "execution_count": null,
   "id": "9f1d9fd2",
   "metadata": {},
   "outputs": [],
   "source": []
  }
 ],
 "metadata": {
  "kernelspec": {
   "display_name": "Python 3 (ipykernel)",
   "language": "python",
   "name": "python3"
  },
  "language_info": {
   "codemirror_mode": {
    "name": "ipython",
    "version": 3
   },
   "file_extension": ".py",
   "mimetype": "text/x-python",
   "name": "python",
   "nbconvert_exporter": "python",
   "pygments_lexer": "ipython3",
   "version": "3.9.12"
  }
 },
 "nbformat": 4,
 "nbformat_minor": 5
}
