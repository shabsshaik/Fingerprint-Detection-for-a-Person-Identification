{
 "cells": [
  {
   "cell_type": "code",
   "execution_count": 1,
   "id": "c86cffce",
   "metadata": {},
   "outputs": [],
   "source": [
    "import os\n",
    "from aiohttp import Fingerprint\n",
    "import cv2\n",
    "import plotly as plt"
   ]
  },
  {
   "cell_type": "code",
   "execution_count": 2,
   "id": "c5a5340e",
   "metadata": {},
   "outputs": [],
   "source": [
    "sample = cv2.imread(r\"C:\\Users\\Rizwa\\OneDrive\\Desktop\\SOCOFing\\Altered\\Altered-Easy\\1__M_Left_index_finger_CR.BMP\")"
   ]
  },
  {
   "cell_type": "code",
   "execution_count": null,
   "id": "ad9f1419",
   "metadata": {},
   "outputs": [
    {
     "name": "stdout",
     "output_type": "stream",
     "text": [
      "---> 1__M_Left_index_finger_CR.BMP\n",
      "Best score:  100.0\n",
      "---> 1__M_Left_index_finger_Obl.BMP\n",
      "Best score:  61.40350877192983\n",
      "---> 1__M_Left_index_finger_Zcut.BMP\n",
      "Best score:  66.66666666666666\n"
     ]
    }
   ],
   "source": [
    "best_score = counter = 0\n",
    "filename = image = kp1 = kp2 = mp = None\n",
    "for file in os.listdir (r\"C:\\Users\\Rizwa\\OneDrive\\Desktop\\SOCOFing\\Altered\\Altered-Easy/\"):\n",
    "    best_score = counter = 0\n",
    "    filename = image = kp1 = kp2 = mp = None\n",
    "    fingerprint_img = cv2.imread(r\"C:\\Users\\Rizwa\\OneDrive\\Desktop\\SOCOFing\\Altered\\Altered-Easy/\" + file)\n",
    "    sift = cv2.SIFT_create()\n",
    "    keypoints_1, des1 = sift.detectAndCompute(sample, None)\n",
    "    keypoints_2, des2 = sift.detectAndCompute(fingerprint_img, None)\n",
    "    # fast library for KNN; approx best match\n",
    "    matches = cv2.FlannBasedMatcher({\"algorithm\": 1, \"trees\": 10}, {}).knnMatch(des1, des2, k=2)\n",
    "    match_points = []\n",
    "    for p, q in matches:\n",
    "        if p.distance < 0.1 * q.distance:\n",
    "            match_points.append(p)\n",
    "        \n",
    "    if match_points==[]:\n",
    "        continue\n",
    "    keypoints = 0\n",
    "    if len(keypoints_1) <= len(keypoints_2):\n",
    "        keypoints = len(keypoints_1)\n",
    "    else:\n",
    "        keypoints = len(keypoints_2)\n",
    "    if len(match_points) / keypoints * 100 > best_score:\n",
    "        best_score = len(match_points) / keypoints * 100\n",
    "        filename = file\n",
    "        image = fingerprint_img\n",
    "        kp1, kp2, mp = keypoints_1, keypoints_2, match_points\n",
    "    if filename!=None:\n",
    "        print(\"Name Of Image--->\",filename)\n",
    "        print(\"Best score:  \" + str(best_score))\n",
    "        if len(match_points) > 0:\n",
    "            result = cv2.drawMatches(sample, kp1, image, kp2, mp, None)\n",
    "            result = cv2.resize(result, None, fx=4, fy=4)\n",
    "            cv2.imshow(\"Result\", result)\n",
    "            cv2.waitKey(0)\n",
    "            cv2.destroyAllWindows()\n"
   ]
  },
  {
   "cell_type": "code",
   "execution_count": null,
   "id": "22e84bdd",
   "metadata": {},
   "outputs": [],
   "source": [
    "#Testing with sample dataset"
   ]
  },
  {
   "cell_type": "code",
   "execution_count": 2,
   "id": "ae579d36",
   "metadata": {},
   "outputs": [],
   "source": [
    "sample2 = cv2.imread(r\"C:\\Users\\Rizwa\\OneDrive\\Desktop\\Finger_print\\21.BMP\")"
   ]
  },
  {
   "cell_type": "code",
   "execution_count": 3,
   "id": "483ccb6a",
   "metadata": {},
   "outputs": [
    {
     "name": "stdout",
     "output_type": "stream",
     "text": [
      "---> 21.BMP\n",
      "Best score:  100.0\n",
      "---> 22.BMP\n",
      "Best score:  31.11111111111111\n"
     ]
    }
   ],
   "source": [
    "best_score = counter = 0\n",
    "filename = image = kp1 = kp2 = mp = None\n",
    "for file in os.listdir (r\"C:\\Users\\Rizwa\\OneDrive\\Desktop\\Finger_print/\"):\n",
    "    best_score = counter = 0\n",
    "    filename = image = kp1 = kp2 = mp = None\n",
    "    fingerprint_img = cv2.imread(r\"C:\\Users\\Rizwa\\OneDrive\\Desktop\\Finger_print/\" + file)\n",
    "    sift = cv2.SIFT_create()\n",
    "    keypoints_1, des1 = sift.detectAndCompute(sample2, None)\n",
    "    keypoints_2, des2 = sift.detectAndCompute(fingerprint_img, None)\n",
    "    # fast library for KNN; approx best match\n",
    "    matches = cv2.FlannBasedMatcher({\"algorithm\": 1, \"trees\": 10}, {}).knnMatch(des1, des2, k=2)\n",
    "    match_points = []\n",
    "\n",
    "    for p, q in matches:\n",
    "        if p.distance < 0.1 * q.distance:\n",
    "            match_points.append(p)\n",
    "    if match_points==[]:\n",
    "        continue\n",
    "    keypoints = 0\n",
    "    if len(keypoints_1) <= len(keypoints_2):\n",
    "        keypoints = len(keypoints_1)\n",
    "    else:\n",
    "        keypoints = len(keypoints_2)\n",
    "    if len(match_points) / keypoints * 100 > best_score:\n",
    "        best_score = len(match_points) / keypoints * 100\n",
    "        filename = file\n",
    "        image = fingerprint_img\n",
    "        kp1, kp2, mp = keypoints_1, keypoints_2, match_points\n",
    "    if filename!=None:\n",
    "        print(\"--->\",filename)\n",
    "        print(\"Best score:  \" + str(best_score))\n",
    "        if len(match_points) > 0:\n",
    "            result = cv2.drawMatches(sample2, kp1, image, kp2, mp, None)\n",
    "            result = cv2.resize(result, None, fx=4, fy=4)\n",
    "            cv2.imshow(\"Result\", result)\n",
    "            cv2.waitKey(0)\n",
    "            cv2.destroyAllWindows()\n"
   ]
  },
  {
   "cell_type": "code",
   "execution_count": null,
   "id": "41383d9c",
   "metadata": {},
   "outputs": [],
   "source": []
  },
  {
   "cell_type": "code",
   "execution_count": null,
   "id": "454c4f34",
   "metadata": {},
   "outputs": [],
   "source": []
  }
 ],
 "metadata": {
  "kernelspec": {
   "display_name": "Python 3 (ipykernel)",
   "language": "python",
   "name": "python3"
  },
  "language_info": {
   "codemirror_mode": {
    "name": "ipython",
    "version": 3
   },
   "file_extension": ".py",
   "mimetype": "text/x-python",
   "name": "python",
   "nbconvert_exporter": "python",
   "pygments_lexer": "ipython3",
   "version": "3.9.12"
  }
 },
 "nbformat": 4,
 "nbformat_minor": 5
}
