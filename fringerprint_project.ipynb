{
 "cells": [
  {
   "cell_type": "code",
   "execution_count": 2,
   "id": "9781d5e2",
   "metadata": {},
   "outputs": [],
   "source": [
    "# present in folder present in database :-- Retrive data  (Sample_image_name=1__M_Left_index_finger_CR.BMP)\n",
    "# present in folder but not in database :--Not Found Data (Sample_image_name=1__M_Left_little_finger_CR.BMP)\n",
    "\n",
    "# Not in folder but not in database :--Need to Investigation\n",
    "# Not in folder present in database :--Need to Investigation"
   ]
  },
  {
   "cell_type": "code",
   "execution_count": 4,
   "id": "55df6825",
   "metadata": {},
   "outputs": [],
   "source": [
    "import mysql.connector\n",
    "import base64\n",
    "from PIL import Image\n",
    "import io\n",
    "import cv2\n",
    "import matplotlib.pyplot as plt\n",
    "import numpy\n",
    "import pandas as pd\n",
    "import os\n",
    "\n",
    "# Create a connection\n",
    "mydb = mysql.connector.connect(\n",
    "host=\"localhost\",\n",
    "user=\"root\",\n",
    "password=\"\",\n",
    "database=\"studentdb\"\n",
    ")\n",
    "\n",
    "# Create a cursor object\n",
    "cursor = mydb.cursor()"
   ]
  },
  {
   "cell_type": "code",
   "execution_count": null,
   "id": "cf5b0738",
   "metadata": {},
   "outputs": [],
   "source": [
    "for i in os.listdir (r'C:\\Users\\Rizwa\\OneDrive\\Desktop\\sam_db/'):\n",
    "    # Open a file in binary mode\n",
    "    \n",
    "    file = open(r'C:\\Users\\Rizwa\\OneDrive\\Desktop\\sam_db/'+i,'rb').read()\n",
    "\n",
    "    # We must encode the file to get base64 string\n",
    "    file = base64.b64encode(file)\n",
    "    num=int(input(\"Enter Id\"))\n",
    "    name=input(\"Enter Name\")\n",
    "    age=int(input(\"Age\"))\n",
    "\n",
    "    # Sample data to be inserted\n",
    "    args = (num,name,age, file)\n",
    "\n",
    "    # Prepare a query\n",
    "    query = 'INSERT INTO PROFILE VALUES(%s, %s, %s,%s)'\n",
    "    num+=1\n",
    "    # Execute the query and commit the database.\n",
    "    cursor.execute(query,args)\n",
    "    mydb.commit()\n",
    "    "
   ]
  },
  {
   "cell_type": "code",
   "execution_count": null,
   "id": "d6b2394c",
   "metadata": {},
   "outputs": [],
   "source": [
    "#For Checking Folder of Images"
   ]
  },
  {
   "cell_type": "code",
   "execution_count": 15,
   "id": "8e91ec46",
   "metadata": {},
   "outputs": [
    {
     "name": "stdout",
     "output_type": "stream",
     "text": [
      "1 Rizwan 21\n",
      "3 salman 20\n",
      "4 sai 20\n",
      "5 ankit 19\n",
      "6 siva 18\n",
      "7 dharmik 22\n",
      "8 rishi 19\n",
      "10 vamsi 24\n"
     ]
    }
   ],
   "source": [
    "cursor.execute(\"SELECT * FROM PROFILE\")\n",
    "\n",
    "# This SQL statement selects all data from the CUSTOMER table.\n",
    "result = cursor.fetchall()\n",
    "\n",
    "for row in result:\n",
    "    binary_data = base64.b64decode(row[3])\n",
    "    image = Image.open(io.BytesIO(binary_data))\n",
    "    pix = numpy.array(image)\n",
    "    \n",
    "    for k in os.listdir (r'C:\\Users\\Rizwa\\OneDrive\\Desktop\\sam_db/'):\n",
    "        fingerprint_img = cv2.imread(r\"C:\\Users\\Rizwa\\OneDrive\\Desktop\\sam_db/\"+k)\n",
    "        sift = cv2.SIFT_create()\n",
    "        keypoints_1, des1 = sift.detectAndCompute(pix, None)\n",
    "        keypoints_2, des2 = sift.detectAndCompute(fingerprint_img, None)\n",
    "        matches = cv2.FlannBasedMatcher({\"algorithm\": 1, \"trees\": 10}, {}).knnMatch(des1, des2, k=2)\n",
    "        match_points = []\n",
    "\n",
    "        for p, q in matches:\n",
    "            if p.distance < 0.1 * q.distance:\n",
    "                match_points.append(p)\n",
    "        if len(match_points)>0:\n",
    "            print(row[0],row[1],row[2])\n",
    "    \n"
   ]
  },
  {
   "cell_type": "code",
   "execution_count": null,
   "id": "fdd06d50",
   "metadata": {},
   "outputs": [],
   "source": [
    "#For Checking Single Image"
   ]
  },
  {
   "cell_type": "code",
   "execution_count": 5,
   "id": "edba586f",
   "metadata": {},
   "outputs": [
    {
     "name": "stdout",
     "output_type": "stream",
     "text": [
      "Matched In DataBase:\n",
      "   ID NAME  AGE\n",
      "0   4  sai   20\n"
     ]
    }
   ],
   "source": [
    "cursor.execute(\"SELECT * FROM PROFILE\")\n",
    "\n",
    "# This SQL statement selects all data from the CUSTOMER table.\n",
    "result = cursor.fetchall()\n",
    "\n",
    "for row in result:\n",
    "    binary_data = base64.b64decode(row[3])\n",
    "    image = Image.open(io.BytesIO(binary_data))\n",
    "    pix = numpy.array(image)\n",
    "    \n",
    "    fingerprint_img = cv2.imread(r\"C:\\Users\\Rizwa\\OneDrive\\Desktop\\sam_db\\2__F_Right_index_finger_CR.BMP\")\n",
    "    sift = cv2.SIFT_create()\n",
    "    keypoints_1, des1 = sift.detectAndCompute(pix, None)\n",
    "    keypoints_2, des2 = sift.detectAndCompute(fingerprint_img, None)\n",
    "    matches = cv2.FlannBasedMatcher({\"algorithm\": 1, \"trees\": 10}, {}).knnMatch(des1, des2, k=2)\n",
    "    match_points = []\n",
    "    for p, q in matches:\n",
    "        if p.distance < 0.1 * q.distance:\n",
    "            match_points.append(p)\n",
    "    if len(match_points)>0:\n",
    "        print(\"Matched In DataBase:\")\n",
    "        data = {\"ID\": [row[0]],\"NAME\": [row[1]],\"NAME\": [row[1]],\"AGE\": [row[2]]}\n",
    "        df = pd.DataFrame(data)\n",
    "        print(df) \n",
    "        break\n",
    "else:\n",
    "    print(\"Not Matched In DataBase\")\n",
    "    \n"
   ]
  },
  {
   "cell_type": "code",
   "execution_count": null,
   "id": "0bb534d0",
   "metadata": {},
   "outputs": [],
   "source": []
  },
  {
   "cell_type": "code",
   "execution_count": null,
   "id": "cbb5e904",
   "metadata": {},
   "outputs": [],
   "source": []
  },
  {
   "cell_type": "code",
   "execution_count": null,
   "id": "4e073534",
   "metadata": {},
   "outputs": [],
   "source": []
  },
  {
   "cell_type": "code",
   "execution_count": null,
   "id": "86e261e6",
   "metadata": {},
   "outputs": [],
   "source": []
  },
  {
   "cell_type": "code",
   "execution_count": 3,
   "id": "291ead53",
   "metadata": {},
   "outputs": [
    {
     "name": "stdout",
     "output_type": "stream",
     "text": [
      "1 Rizwan 21\n",
      "3 salman 20\n",
      "4 sai 20\n",
      "5 ankit 19\n",
      "6 siva 18\n",
      "7 dharmik 22\n",
      "8 rishi 19\n",
      "10 vamsi 24\n"
     ]
    }
   ],
   "source": [
    "cursor.execute(\"SELECT * FROM PROFILE\")\n",
    "\n",
    "# This SQL statement selects all data from the CUSTOMER table.\n",
    "result = cursor.fetchall()\n",
    "\n",
    "for row in result:\n",
    "    binary_data = base64.b64decode(row[3])\n",
    "    image = Image.open(io.BytesIO(binary_data))\n",
    "    pix = numpy.array(image)\n",
    "    \n",
    "    for k in os.listdir (r'C:\\Users\\Rizwa\\OneDrive\\Desktop\\sam_db/'):\n",
    "        fingerprint_img = cv2.imread(r\"C:\\Users\\Rizwa\\OneDrive\\Desktop\\sam_db/\"+k)\n",
    "        sift = cv2.SIFT_create()\n",
    "        keypoints_1, des1 = sift.detectAndCompute(pix, None)\n",
    "        keypoints_2, des2 = sift.detectAndCompute(fingerprint_img, None)\n",
    "        matches = cv2.FlannBasedMatcher({\"algorithm\": 1, \"trees\": 10}, {}).knnMatch(des1, des2, k=2)\n",
    "        match_points = []\n",
    "\n",
    "        for p, q in matches:\n",
    "            if p.distance < 0.1 * q.distance:\n",
    "                match_points.append(p)\n",
    "        if len(match_points)>0:\n",
    "            print(row[0],row[1],row[2])\n",
    "    \n"
   ]
  },
  {
   "cell_type": "code",
   "execution_count": null,
   "id": "a8269481",
   "metadata": {},
   "outputs": [],
   "source": []
  },
  {
   "cell_type": "code",
   "execution_count": null,
   "id": "fdc19242",
   "metadata": {},
   "outputs": [],
   "source": []
  }
 ],
 "metadata": {
  "kernelspec": {
   "display_name": "Python 3 (ipykernel)",
   "language": "python",
   "name": "python3"
  },
  "language_info": {
   "codemirror_mode": {
    "name": "ipython",
    "version": 3
   },
   "file_extension": ".py",
   "mimetype": "text/x-python",
   "name": "python",
   "nbconvert_exporter": "python",
   "pygments_lexer": "ipython3",
   "version": "3.9.12"
  }
 },
 "nbformat": 4,
 "nbformat_minor": 5
}
